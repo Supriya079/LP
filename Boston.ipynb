{
 "cells": [
  {
   "cell_type": "markdown",
   "id": "ac82f148",
   "metadata": {},
   "source": [
    "### Linear regression by using Deep Neural network: Implement Boston housing price prediction problem by Linear regression using Deep Neural network. Use Boston House price prediction dataset."
   ]
  },
  {
   "cell_type": "code",
   "execution_count": null,
   "id": "c298d82f",
   "metadata": {},
   "outputs": [],
   "source": [
    "from sklearn.datasets import load_boston\n",
    "from sklearn.model_selection import train_test_split\n",
    "from sklearn.preprocessing import StandardScaler #standardize the feature data\n",
    "from tensorflow.keras.models import Sequential #create sequential model\n",
    "from tensorflow.keras.layers import Dense #define layers of the model"
   ]
  },
  {
   "cell_type": "code",
   "execution_count": null,
   "id": "431e8557",
   "metadata": {},
   "outputs": [],
   "source": [
    "boston = load_boston()\n",
    "data = boston.data\n",
    "labels = boston.target\n",
    "\n",
    "scaler  = StandardScaler()\n",
    "scaled_data = scaler.fit_transform(data) # feature data to standardize \n",
    "\n",
    "X_train,X_test,Y_train,Y_test = train_test_split(scaled_data,labels,test_size=0.2,random_state=42)"
   ]
  },
  {
   "cell_type": "code",
   "execution_count": null,
   "id": "8e30af12",
   "metadata": {},
   "outputs": [],
   "source": [
    "model  = Sequential()\n",
    "#The first Dense layer has 64 units, uses the ReLU activation function, and takes the shape of the input data as its input shape.\n",
    "#The second Dense layer has 32 units with ReLU activation.\n", 
    "#The output layer has 1 unit for regression and uses the linear activation function. \n",
    "model.add(Dense(64,activation='relu',input_shape=(X_train.shape[1],))) # input layer\n",
    "model.add(Dense(32,activation='relu')) # hidden layer\n",
    "model.add(Dense(1,activation='linear')) # output layer"
   ]
  },
  {
   "cell_type": "code",
   "execution_count": null,
   "id": "51b6f865",
   "metadata": {},
   "outputs": [],
   "source": [
    "model.compile(optimizer='adam',loss='mse',metrics=['accuracy'])"
   ]
  },
  {
   "cell_type": "code",
   "execution_count": null,
   "id": "bf9ae4ef",
   "metadata": {},
   "outputs": [],
   "source": [
    "#validation split of 0.2 is specified, which means that 20% of the training data will be used for validation during training.\n",
    "model.fit(X_train,Y_train,epochs=100,batch_size=16,validation_split=0.2)"
   ]
  },
  {
   "cell_type": "code",
   "execution_count": null,
   "id": "914bb4fc",
   "metadata": {},
   "outputs": [],
   "source": [
    "model.predict(X_test)"
   ]
  }
 ],
 "metadata": {
  "kernelspec": {
   "display_name": "Python 3 (ipykernel)",
   "language": "python",
   "name": "python3"
  },
  "language_info": {
   "codemirror_mode": {
    "name": "ipython",
    "version": 3
   },
   "file_extension": ".py",
   "mimetype": "text/x-python",
   "name": "python",
   "nbconvert_exporter": "python",
   "pygments_lexer": "ipython3",
   "version": "3.11.2"
  }
 },
 "nbformat": 4,
 "nbformat_minor": 5
}
